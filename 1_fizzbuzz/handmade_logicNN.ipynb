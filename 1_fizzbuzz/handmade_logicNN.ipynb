{
 "cells": [
  {
   "cell_type": "markdown",
   "metadata": {},
   "source": [
    "### Apprentissage de portes logiques\n",
    "\n",
    "OR, AND, NOR et NAND\n",
    "\n",
    "| A | B | A OR B | | A | B | A AND B |\n",
    "|---|---|--------|-|---|---|----------|\n",
    "| 0 | 0 | 0 | | 0 | 0 | 0 |\n",
    "| 0 | 1 | 1 | | 0 | 1 | 0 |\n",
    "| 1 | 0 | 1 | | 1 | 0 | 0 |\n",
    "| 1 | 1 | 1 | | 1 | 1 | 1 |\n",
    "\n",
    "\n",
    "| A | B | A NOR B | | A | B | A NAND B |\n",
    "|---|---|---------|-|---|---|-----------|\n",
    "| 0 | 0 | 1 | | 0 | 0 | 1 |\n",
    "| 0 | 1 | 0 | | 0 | 1 | 1 |\n",
    "| 1 | 0 | 0 | | 1 | 0 | 1 |\n",
    "| 1 | 1 | 0 | | 1 | 1 | 0 |\n",
    "\n",
    "\n",
    "On veut apprendre à un réseau à réaliser ces portes logiques."
   ]
  },
  {
   "cell_type": "code",
   "execution_count": 1,
   "metadata": {},
   "outputs": [],
   "source": [
    "import numpy as np"
   ]
  },
  {
   "cell_type": "markdown",
   "metadata": {},
   "source": [
    "### Sigmoïde\n"
   ]
  },
  {
   "cell_type": "code",
   "execution_count": 2,
   "metadata": {},
   "outputs": [],
   "source": [
    "def sigmoid(x):\n",
    "    return ..."
   ]
  },
  {
   "cell_type": "markdown",
   "metadata": {},
   "source": [
    "### Modélisation\n",
    "\n",
    "On prend en entrée deux entiers en binaire, et on attend une sortie binaire."
   ]
  },
  {
   "cell_type": "code",
   "execution_count": null,
   "metadata": {},
   "outputs": [],
   "source": [
    "X = np.array([[0 ,0] , [0 ,1] , [1 ,0] , [1 ,1]])"
   ]
  },
  {
   "cell_type": "markdown",
   "metadata": {},
   "source": [
    "#### Implémentation d'une rétropropagation\n",
    "\n",
    "Dans le cas d'un réseau simple (1 couche cachée, pas de biais)"
   ]
  },
  {
   "cell_type": "code",
   "execution_count": null,
   "metadata": {},
   "outputs": [],
   "source": [
    "def logicNN(X,t):\n",
    "    N = 4\n",
    "    epochs = 10000\n",
    "    lr = 0.1\n",
    "    W1 = np.random.rand(2,N) \n",
    "    W2 = np.random.rand(N,1)\n",
    "\n",
    "    for e in range(epochs):\n",
    "        ### forward pass\n",
    "        out1 = ...\n",
    "        out2 = ...\n",
    "\n",
    "        ### backprop\n",
    "        error = ...\n",
    "        d2 = ...\n",
    "        d1 = ...\n",
    "        # SGD\n",
    "        W2 += lr * out1.T.dot(d2)\n",
    "        W1 += lr * X.T.dot(d1)\n",
    "    return out2.flatten()"
   ]
  },
  {
   "cell_type": "code",
   "execution_count": null,
   "metadata": {},
   "outputs": [],
   "source": [
    "print(\"OR\", logicNN(X, np.array([[0,1,1,1]]).T))\n",
    "print(\"AND\", logicNN(X, np.array([[0,0,0,1]]).T))\n",
    "print(\"XOR\", logicNN(X, np.array([[0,1,1,0]]).T))\n",
    "print(\"NAND\", logicNN(X, np.array([[1,1,1,0]]).T))\n",
    "print(\"NOR\", logicNN(X, np.array([[1,0,0,0]]).T))"
   ]
  },
  {
   "cell_type": "code",
   "execution_count": null,
   "metadata": {},
   "outputs": [],
   "source": [
    "# Autre exemples\n",
    "X = np.array([[0.1,0.1], [0.2,0.9], [0.8,0.15], [0.85,0.8]])\n",
    "print(\"OR\", logicNN(X, np.array([[0,1,1,1]]).T))\n",
    "\n",
    "X = np.array([[0,0], [0,1], [1,0], [1,1],[0.1,0.1], [0.2,0.9], [0.8,0.15], [0.85,0.8]])\n",
    "print(\"OR\", logicNN(X, np.array([[0,1,1,1,0,1,1,1]]).T))"
   ]
  }
 ],
 "metadata": {
  "kernelspec": {
   "display_name": "Python 3",
   "language": "python",
   "name": "python3"
  },
  "language_info": {
   "codemirror_mode": {
    "name": "ipython",
    "version": 3
   },
   "file_extension": ".py",
   "mimetype": "text/x-python",
   "name": "python",
   "nbconvert_exporter": "python",
   "pygments_lexer": "ipython3",
   "version": "3.10.12"
  }
 },
 "nbformat": 4,
 "nbformat_minor": 2
}
